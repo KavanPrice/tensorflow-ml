{
 "cells": [
  {
   "attachments": {},
   "cell_type": "markdown",
   "metadata": {},
   "source": [
    "# Setup"
   ]
  },
  {
   "cell_type": "code",
   "execution_count": 37,
   "metadata": {},
   "outputs": [],
   "source": [
    "import wandb\n",
    "import tensorflow as tf\n",
    "import numpy as np\n",
    "import matplotlib.pyplot as plt"
   ]
  },
  {
   "attachments": {},
   "cell_type": "markdown",
   "metadata": {},
   "source": [
    "# Data"
   ]
  },
  {
   "cell_type": "code",
   "execution_count": 3,
   "metadata": {},
   "outputs": [],
   "source": [
    "mnist = tf.keras.datasets.mnist\n",
    "(X_train, y_train), (X_test, y_test) = mnist.load_data()\n",
    "# Normalise\n",
    "X_train, X_test = X_train/255.0, X_test/255.0"
   ]
  },
  {
   "attachments": {},
   "cell_type": "markdown",
   "metadata": {},
   "source": [
    "# Model"
   ]
  },
  {
   "cell_type": "code",
   "execution_count": 5,
   "metadata": {},
   "outputs": [],
   "source": [
    "# Configure the wandb sweep\n",
    "sweep_config = {\n",
    "    'method': 'random',\n",
    "    'metric': {\n",
    "      'name': 'val_loss',\n",
    "      'goal': 'minimize'   \n",
    "    },\n",
    "    'parameters': {\n",
    "        'learning_rate': {\n",
    "            'values': [1, 0.1, 0.01, 0.001, 0.0001]\n",
    "        },\n",
    "        'epochs': {\n",
    "            'values': [10, 20, 50, 100, 150, 200]\n",
    "        },\n",
    "        'batch_size': {\n",
    "            'values': [16, 32, 64, 128, 256]\n",
    "        },\n",
    "        'optimizer': {\n",
    "            'values': ['adam', 'nadam', 'sgd', 'rmsprop']\n",
    "        },\n",
    "        'layers': {\n",
    "            'values': [1, 2, 3, 4, 5]\n",
    "        },\n",
    "        'dropout': {\n",
    "            'values': [0.3, 0.2, 0.1]\n",
    "        },\n",
    "    }\n",
    "}"
   ]
  },
  {
   "cell_type": "code",
   "execution_count": 6,
   "metadata": {},
   "outputs": [
    {
     "name": "stderr",
     "output_type": "stream",
     "text": [
      "Failed to detect the name of this notebook, you can set it manually with the WANDB_NOTEBOOK_NAME environment variable to enable code saving.\n"
     ]
    },
    {
     "name": "stdout",
     "output_type": "stream",
     "text": [
      "Create sweep with ID: wmtw5ten\n",
      "Sweep URL: https://wandb.ai/kavp/tensorflow-test/sweeps/wmtw5ten\n"
     ]
    }
   ],
   "source": [
    "# Initialise sweep\n",
    "sweep_id = wandb.sweep(sweep_config, project='tensorflow-test', entity='kavp')"
   ]
  },
  {
   "cell_type": "code",
   "execution_count": 7,
   "metadata": {},
   "outputs": [],
   "source": [
    "# Mega function to define and train model and log results (used by the sweep)\n",
    "def sweep_func():\n",
    "    # Default hyperparameter values\n",
    "    config_defaults = {\n",
    "        'learning_rate': 0.001,\n",
    "        'epochs': 100,\n",
    "        'batch_size': 128,\n",
    "        'optimizer': 'adam',\n",
    "        'layers': 1,\n",
    "        'dropout': 0.2,\n",
    "        'eager_mode': False,\n",
    "    }\n",
    "\n",
    "    # Initialise run\n",
    "    wandb.init(config=config_defaults)\n",
    "\n",
    "    # Variable to hold the sweep values\n",
    "    config = wandb.config\n",
    "    \n",
    "    if config['eager_mode'] == True:\n",
    "        tf.compat.v1.enable_eager_execution()\n",
    "    elif config['eager_mode'] == False:\n",
    "        tf.compat.v1.disable_eager_execution()\n",
    "    else:\n",
    "        raise ValueError('eager_mode property of wandb config could not be determined.') \n",
    "\n",
    "    # Define empty model\n",
    "    model = tf.keras.models.Sequential()\n",
    "\n",
    "    # Flatten\n",
    "    model.add(tf.keras.layers.Flatten(input_shape=(28, 28)))\n",
    "\n",
    "    # Fill model with dense layers based on layers parameter\n",
    "    for i in range(config['layers']):\n",
    "        model.add(tf.keras.layers.Dense(round(128/(i+1)), activation='relu'))\n",
    "        model.add(tf.keras.layers.Dropout(config['dropout']))\n",
    "\n",
    "    # Add softmax for classification\n",
    "    model.add(tf.keras.layers.Dense(10, activation='softmax'))\n",
    "\n",
    "    model.compile(\n",
    "        optimizer=config['optimizer'],\n",
    "        loss='sparse_categorical_crossentropy',\n",
    "        metrics=['accuracy'],\n",
    "        run_eagerly=config['eager_mode'],\n",
    "    )\n",
    "\n",
    "    with tf.compat.v1.Session() as sess:\n",
    "        r = model.fit(X_train, y_train, validation_data=(X_test,y_test), epochs=config['epochs'], batch_size=config['batch_size'])\n",
    "        wandb.tensorflow.log(tf.compat.v1.summary.merge_all())\n",
    "        wandb.log({'loss': r.history['loss'][-1], 'val_loss': r.history['val_loss'][-1], 'accuracy': r.history['accuracy'][-1], 'val_accuracy': r.history['val_accuracy'][-1]})\n",
    "\n",
    "        wandb_data = [[x,y] for (x,y) in zip(np.arange(0, config['epochs'], 1), r.history['loss'])]\n",
    "        table = wandb.Table(data=wandb_data, columns = [\"epoch\", \"loss\"])\n",
    "        wandb.log({\"loss_against_epochs\" : wandb.plot.line(table, \"epoch\", \"loss\", title=\"Training loss\")})\n",
    "\n",
    "        wandb_data = [[x,y] for (x,y) in zip(np.arange(0, config['epochs'], 1), r.history['val_loss'])]\n",
    "        table = wandb.Table(data=wandb_data, columns = [\"epoch\", \"val_loss\"])\n",
    "        wandb.log({\"val_loss_against_epochs\" : wandb.plot.line(table, \"epoch\", \"val_loss\", title=\"Validation loss\")})\n",
    "\n",
    "        wandb_data = [[x,y] for (x,y) in zip(np.arange(0, config['epochs'], 1), r.history['accuracy'])]\n",
    "        table = wandb.Table(data=wandb_data, columns = [\"epoch\", \"accuracy\"])\n",
    "        wandb.log({\"accuracy_against_epochs\" : wandb.plot.line(table, \"epoch\", \"accuracy\", title=\"Training accuracy\")})\n",
    "\n",
    "        wandb_data = [[x,y] for (x,y) in zip(np.arange(0, config['epochs'], 1), r.history['val_accuracy'])]\n",
    "        table = wandb.Table(data=wandb_data, columns = [\"epoch\", \"val_accuracy\"])\n",
    "        wandb.log({\"val_accuracy_against_epochs\" : wandb.plot.line(table, \"epoch\", \"val_accuracy\", title=\"Validation accuracy\")})\n",
    "\n",
    "        # Save model\n",
    "        model.save(os.path.join(wandb.run.dir, 'model.h5'))"
   ]
  },
  {
   "cell_type": "code",
   "execution_count": null,
   "metadata": {},
   "outputs": [],
   "source": [
    "wandb.agent(sweep_id, sweep_func)"
   ]
  },
  {
   "cell_type": "code",
   "execution_count": 9,
   "metadata": {},
   "outputs": [],
   "source": [
    "wandb.finish()"
   ]
  },
  {
   "attachments": {},
   "cell_type": "markdown",
   "metadata": {},
   "source": [
    "# Predictions"
   ]
  },
  {
   "cell_type": "code",
   "execution_count": 16,
   "metadata": {},
   "outputs": [],
   "source": [
    "# Load a good run\n",
    "good_run_path = 'kavp/tensorflow-test/fe5o3h0z/'\n",
    "run = wandb.Api().run(good_run_path)\n",
    "# Load model\n",
    "best_model = wandb.restore('model.h5', run_path=good_run_path)\n",
    "# Load config\n",
    "config = run.config\n",
    "\n",
    "# New model\n",
    "model = tf.keras.models.Sequential()\n",
    "\n",
    "# Flatten\n",
    "model.add(tf.keras.layers.Flatten(input_shape=(28, 28)))\n",
    "\n",
    "# Fill model with dense layers based on layers parameter\n",
    "for i in range(config['layers']):\n",
    "    model.add(tf.keras.layers.Dense(round(128/(i+1)), activation='relu'))\n",
    "    model.add(tf.keras.layers.Dropout(config['dropout']))\n",
    "\n",
    "# Add softmax for classification\n",
    "model.add(tf.keras.layers.Dense(10, activation='softmax'))\n",
    "\n",
    "model.compile(\n",
    "    optimizer=config['optimizer'],\n",
    "    loss='sparse_categorical_crossentropy',\n",
    "    metrics=['accuracy'],\n",
    "    run_eagerly=config['eager_mode'],\n",
    ")\n",
    "\n",
    "# Load its weights into the new model\n",
    "model.load_weights(best_model.name)"
   ]
  },
  {
   "cell_type": "code",
   "execution_count": 36,
   "metadata": {},
   "outputs": [
    {
     "name": "stdout",
     "output_type": "stream",
     "text": [
      "313/313 [==============================] - 0s 927us/step\n"
     ]
    },
    {
     "data": {
      "text/plain": [
       "<tf.Tensor: shape=(10, 10), dtype=int32, numpy=\n",
       "array([[ 971,    0,    1,    0,    1,    0,    3,    1,    3,    0],\n",
       "       [   0, 1121,    3,    1,    0,    1,    4,    2,    2,    1],\n",
       "       [   2,    0, 1019,    2,    2,    0,    2,    3,    2,    0],\n",
       "       [   0,    0,    8,  986,    0,    6,    0,    4,    1,    5],\n",
       "       [   0,    0,    1,    0,  957,    0,    7,    3,    0,   14],\n",
       "       [   2,    0,    0,    7,    0,  869,    6,    1,    4,    3],\n",
       "       [   4,    2,    0,    1,    6,    2,  942,    0,    1,    0],\n",
       "       [   1,    1,    9,    2,    1,    0,    0, 1010,    0,    4],\n",
       "       [   7,    1,    8,    6,    3,    5,    4,    3,  932,    5],\n",
       "       [   1,    3,    0,    6,    6,    1,    1,    8,    1,  982]])>"
      ]
     },
     "execution_count": 36,
     "metadata": {},
     "output_type": "execute_result"
    }
   ],
   "source": [
    "# Obtain some predictions and plot the confusion matrix\n",
    "# argmax to get predictions from one-hot encoded vectors\n",
    "predicted_class = tf.argmax(model.predict(X_test),1)\n",
    "tf.math.confusion_matrix(y_test, predicted_class)"
   ]
  },
  {
   "cell_type": "code",
   "execution_count": 83,
   "metadata": {},
   "outputs": [
    {
     "data": {
      "image/png": "[encoded data removed]",
      "text/plain": [
       "<Figure size 640x480 with 1 Axes>"
      ]
     },
     "metadata": {},
     "output_type": "display_data"
    }
   ],
   "source": [
    "# Show some misclassified examples\n",
    "misclassified = np.where(predicted_class != y_test)[0]\n",
    "index = np.random.choice(misclassified)\n",
    "plt.imshow(X_test[index], cmap='gray')\n",
    "plt.title('Ground truth: %s    Predicted: %s' % (y_test[index], tf.get_static_value(predicted_class[index])));"
   ]
  }
 ],
 "metadata": {
  "kernelspec": {
   "display_name": "Python 3",
   "language": "python",
   "name": "python3"
  },
  "language_info": {
   "codemirror_mode": {
    "name": "ipython",
    "version": 3
   },
   "file_extension": ".py",
   "mimetype": "text/x-python",
   "name": "python",
   "nbconvert_exporter": "python",
   "pygments_lexer": "ipython3",
   "version": "3.10.9"
  },
  "orig_nbformat": 4,
  "vscode": {
   "interpreter": {
    "hash": "4ae95049be29ccc4e9e63d75792906e6275d896119b1dc25df5d9e2259f80455"
   }
  }
 },
 "nbformat": 4,
 "nbformat_minor": 2
}
