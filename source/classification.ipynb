{
 "cells": [
  {
   "attachments": {},
   "cell_type": "markdown",
   "metadata": {},
   "source": [
    "# Setup"
   ]
  },
  {
   "cell_type": "code",
   "execution_count": null,
   "metadata": {},
   "outputs": [],
   "source": [
    "%pip install scikit-learn"
   ]
  },
  {
   "cell_type": "code",
   "execution_count": null,
   "metadata": {},
   "outputs": [],
   "source": [
    "%pip install wandb"
   ]
  },
  {
   "cell_type": "code",
   "execution_count": null,
   "metadata": {},
   "outputs": [],
   "source": [
    "import wandb\n",
    "import tensorflow as tf\n",
    "from sklearn.datasets import load_breast_cancer\n",
    "import numpy as np"
   ]
  },
  {
   "attachments": {},
   "cell_type": "markdown",
   "metadata": {},
   "source": [
    "# Data"
   ]
  },
  {
   "cell_type": "code",
   "execution_count": null,
   "metadata": {},
   "outputs": [],
   "source": [
    "data = load_breast_cancer()\n",
    "print('type:', type(data))\n",
    "print('keys:', data.keys())\n",
    "print('shape:', data.data.shape)"
   ]
  },
  {
   "cell_type": "code",
   "execution_count": null,
   "metadata": {},
   "outputs": [],
   "source": [
    "print('ground truth:', data.target)\n",
    "print('classes:', data.target_names)\n",
    "print('features:', data.feature_names)"
   ]
  },
  {
   "cell_type": "code",
   "execution_count": null,
   "metadata": {},
   "outputs": [],
   "source": [
    "from sklearn.model_selection import train_test_split\n",
    "from sklearn.preprocessing import StandardScaler"
   ]
  },
  {
   "cell_type": "code",
   "execution_count": null,
   "metadata": {},
   "outputs": [],
   "source": [
    "# Split the dataset into a train and test set. Pass in feature data and targets\n",
    "X_train, X_test, y_train, y_test = train_test_split(data.data, data.target, test_size=0.33)\n",
    "N, D = X_train.shape"
   ]
  },
  {
   "cell_type": "code",
   "execution_count": null,
   "metadata": {},
   "outputs": [],
   "source": [
    "# Scale dataset for comparable weights in features\n",
    "scaler = StandardScaler()\n",
    "X_train = scaler.fit_transform(X_train)\n",
    "X_test = scaler.transform(X_test)"
   ]
  },
  {
   "attachments": {},
   "cell_type": "markdown",
   "metadata": {},
   "source": [
    "# Model"
   ]
  },
  {
   "cell_type": "code",
   "execution_count": null,
   "metadata": {},
   "outputs": [],
   "source": [
    "# Configure the wandb sweep\n",
    "sweep_config = {\n",
    "    'method': 'random', #grid, random\n",
    "    'metric': {\n",
    "      'name': 'accuracy',\n",
    "      'goal': 'maximize'   \n",
    "    },\n",
    "    'parameters': {\n",
    "        'learning_rate': {\n",
    "            'values': [0.1, 0.05, 0.01, 0.005, 0.004, 0.003, 0.002, 0.001, 0.0005, 0.0004, 0.0003, 0.0002, 0.0001]\n",
    "        },\n",
    "        'epochs': {\n",
    "            'values': [10, 20, 50, 100, 200, 500]\n",
    "        },\n",
    "        'batch_size': {\n",
    "            'values': [32, 64, 128, 256]\n",
    "        },\n",
    "        'optimizer': {\n",
    "            'values': ['adam', 'nadam', 'sgd', 'rmsprop']\n",
    "        },\n",
    "    }\n",
    "}"
   ]
  },
  {
   "cell_type": "code",
   "execution_count": null,
   "metadata": {},
   "outputs": [],
   "source": [
    "# Initialise sweep\n",
    "sweep_id = wandb.sweep(sweep_config, project='tensorflow-test', entity='kavp')"
   ]
  },
  {
   "cell_type": "code",
   "execution_count": null,
   "metadata": {},
   "outputs": [],
   "source": [
    "# Mega function to define and train model and log results (used by the sweep)\n",
    "def sweep_func():\n",
    "    # Default hyperparameter values\n",
    "    config_defaults = {\n",
    "        'learning_rate': 0.001,\n",
    "        'epochs': 100,\n",
    "        'batch_size': 128,\n",
    "        'optimizer': 'adam',\n",
    "        'eager_mode': False,\n",
    "    }\n",
    "\n",
    "    # Initialise run\n",
    "    wandb.init(config=config_defaults)\n",
    "\n",
    "    # Variable to hold the sweep values\n",
    "    config = wandb.config\n",
    "    \n",
    "    if config['eager_mode'] == True:\n",
    "        tf.compat.v1.enable_eager_execution()\n",
    "    elif config['eager_mode'] == False:\n",
    "        tf.compat.v1.disable_eager_execution()\n",
    "    else:\n",
    "        raise ValueError('eager_mode property of wandb config could not be determined.') \n",
    "\n",
    "    # Define our own sequential model\n",
    "    model = tf.keras.models.Sequential([\n",
    "        # Layers\n",
    "        tf.keras.layers.Input(shape=(D,)),\n",
    "        tf.keras.layers.Dense(1, activation='sigmoid'),\n",
    "    ])\n",
    "\n",
    "    model.compile(\n",
    "        optimizer=config['optimizer'],\n",
    "        loss='binary_crossentropy',\n",
    "        metrics=['accuracy'],\n",
    "        run_eagerly=config['eager_mode'],\n",
    "    )\n",
    "\n",
    "    with tf.compat.v1.Session() as sess:\n",
    "        r = model.fit(X_train, y_train, validation_data=(X_test,y_test), epochs=config['epochs'], batch_size=config['batch_size'])\n",
    "        wandb.tensorflow.log(tf.compat.v1.summary.merge_all())\n",
    "        wandb.log({'loss': r.history['loss'][-1], 'val_loss': r.history['val_loss'][-1], 'accuracy': r.history['accuracy'][-1], 'val_accuracy': r.history['val_accuracy'][-1]})\n",
    "\n",
    "        wandb_data = [[x,y] for (x,y) in zip(np.arange(0, config['epochs'], 1), r.history['loss'])]\n",
    "        table = wandb.Table(data=wandb_data, columns = [\"epoch\", \"loss\"])\n",
    "        wandb.log({\"loss_against_epochs\" : wandb.plot.line(table, \"epoch\", \"loss\", title=\"Training loss\")})\n",
    "\n",
    "        wandb_data = [[x,y] for (x,y) in zip(np.arange(0, config['epochs'], 1), r.history['val_loss'])]\n",
    "        table = wandb.Table(data=wandb_data, columns = [\"epoch\", \"val_loss\"])\n",
    "        wandb.log({\"val_loss_against_epochs\" : wandb.plot.line(table, \"epoch\", \"val_loss\", title=\"Validation loss\")})\n",
    "\n",
    "        wandb_data = [[x,y] for (x,y) in zip(np.arange(0, config['epochs'], 1), r.history['accuracy'])]\n",
    "        table = wandb.Table(data=wandb_data, columns = [\"epoch\", \"accuracy\"])\n",
    "        wandb.log({\"accuracy_against_epochs\" : wandb.plot.line(table, \"epoch\", \"accuracy\", title=\"Training accuracy\")})\n",
    "\n",
    "        wandb_data = [[x,y] for (x,y) in zip(np.arange(0, config['epochs'], 1), r.history['val_accuracy'])]\n",
    "        table = wandb.Table(data=wandb_data, columns = [\"epoch\", \"val_accuracy\"])\n",
    "        wandb.log({\"val_accuracy_against_epochs\" : wandb.plot.line(table, \"epoch\", \"val_accuracy\", title=\"Validation accuracy\")})"
   ]
  },
  {
   "cell_type": "code",
   "execution_count": null,
   "metadata": {},
   "outputs": [],
   "source": [
    "wandb.agent(sweep_id, sweep_func)"
   ]
  },
  {
   "cell_type": "code",
   "execution_count": null,
   "metadata": {},
   "outputs": [],
   "source": [
    "wandb.finish()"
   ]
  }
 ],
 "metadata": {
  "kernelspec": {
   "display_name": "Python 3",
   "language": "python",
   "name": "python3"
  },
  "language_info": {
   "codemirror_mode": {
    "name": "ipython",
    "version": 3
   },
   "file_extension": ".py",
   "mimetype": "text/x-python",
   "name": "python",
   "nbconvert_exporter": "python",
   "pygments_lexer": "ipython3",
   "version": "3.8.6 (tags/v3.8.6:db45529, Sep 23 2020, 15:52:53) [MSC v.1927 64 bit (AMD64)]"
  },
  "orig_nbformat": 4,
  "vscode": {
   "interpreter": {
    "hash": "e3c659eed48feaa95130d67f14112e7f62129a763be0b6a77d5fa4efaa63988c"
   }
  }
 },
 "nbformat": 4,
 "nbformat_minor": 2
}
